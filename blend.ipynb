{
 "cells": [
  {
   "cell_type": "code",
   "execution_count": 1,
   "metadata": {},
   "outputs": [],
   "source": [
    "import os\n",
    "import numpy as np \n",
    "import pandas as pd \n",
    "import matplotlib.pyplot as plt\n",
    "from scipy.stats.mstats import gmean\n",
    "import seaborn as sns\n",
    "%matplotlib inline\n",
    "from subprocess import check_output"
   ]
  },
  {
   "cell_type": "code",
   "execution_count": 2,
   "metadata": {},
   "outputs": [
    {
     "data": {
      "text/plain": [
       "['1JHN_2JHN_-1.668.csv',\n",
       " 'lgb_5fold_5k_-1.633.csv',\n",
       " 'sub_lgb_model_individual_-1.415.csv']"
      ]
     },
     "execution_count": 2,
     "metadata": {},
     "output_type": "execute_result"
    }
   ],
   "source": [
    "sub_path = \"en\"\n",
    "all_files = os.listdir(sub_path)\n",
    "all_files"
   ]
  },
  {
   "cell_type": "code",
   "execution_count": 3,
   "metadata": {},
   "outputs": [],
   "source": [
    "one = pd.read_csv('en/1JHN_2JHN_-1.668.csv')\n",
    "two = pd.read_csv('en/lgb_5fold_5k_-1.633.csv')\n",
    "three = pd.read_csv('en/sub_lgb_model_individual_-1.415.csv')"
   ]
  },
  {
   "cell_type": "code",
   "execution_count": 4,
   "metadata": {},
   "outputs": [],
   "source": [
    "submission = pd.DataFrame()\n",
    "submission['id'] = one.id\n",
    "submission['scalar_coupling_constant'] = (0.40*one.scalar_coupling_constant) + (0.35*two.scalar_coupling_constant) + (0.25*three.scalar_coupling_constant)\n",
    "\n",
    "submission.to_csv('per_blend.csv', index=False)"
   ]
  },
  {
   "cell_type": "code",
   "execution_count": null,
   "metadata": {},
   "outputs": [],
   "source": []
  }
 ],
 "metadata": {
  "kernelspec": {
   "display_name": "Python 3",
   "language": "python",
   "name": "python3"
  },
  "language_info": {
   "codemirror_mode": {
    "name": "ipython",
    "version": 3
   },
   "file_extension": ".py",
   "mimetype": "text/x-python",
   "name": "python",
   "nbconvert_exporter": "python",
   "pygments_lexer": "ipython3",
   "version": "3.7.1"
  }
 },
 "nbformat": 4,
 "nbformat_minor": 2
}
